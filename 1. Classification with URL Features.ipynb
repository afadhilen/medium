{
 "cells": [
  {
   "cell_type": "markdown",
   "id": "b657c513",
   "metadata": {},
   "source": [
    "# Classification using SVM and ANN"
   ]
  },
  {
   "cell_type": "code",
   "execution_count": 1,
   "id": "b78ee47b",
   "metadata": {},
   "outputs": [],
   "source": [
    "import pandas as pd\n",
    "import random\n",
    "import numpy as np\n",
    "from bs4 import BeautifulSoup\n",
    "import re\n",
    "import matplotlib.pyplot as plt"
   ]
  },
  {
   "cell_type": "markdown",
   "id": "92328548",
   "metadata": {},
   "source": [
    "<b> Function for URL feature extraction and dataset preparation"
   ]
  },
  {
   "cell_type": "code",
   "execution_count": 2,
   "id": "f6651041",
   "metadata": {},
   "outputs": [],
   "source": [
    "# def clean_html_add_url_flag(data):\n",
    "#     cleaned_data = []\n",
    "#     cleaned_flag = []\n",
    "#     cleaned_url_count = []\n",
    "#     cleaned_dict = {}\n",
    "#     for line in data:\n",
    "#         line = line.lower()\n",
    "#         soup = BeautifulSoup(line, 'html.parser')\n",
    "#         url_count = 0\n",
    "#         url_flag = 0\n",
    "#         for url in soup.find_all('a'):\n",
    "#             if url.get('href'):\n",
    "#                 url_flag = 1\n",
    "#                 url_count += 1\n",
    "#             else:\n",
    "#                 url_flag = 0\n",
    "#                 url_count = 0\n",
    "#         clean = re.compile('<.*?>')\n",
    "#         finish = re.sub(clean, '', line)\n",
    "#         cleaned_data.append(finish.strip())\n",
    "#         cleaned_flag.append(url_flag)\n",
    "#         cleaned_url_count.append(url_count)\n",
    "#         cleaned_dict['data'] = cleaned_data\n",
    "#         cleaned_dict['url_count'] = cleaned_url_count\n",
    "#         cleaned_dict['flag'] = cleaned_flag\n",
    "#     return cleaned_dict"
   ]
  },
  {
   "cell_type": "code",
   "execution_count": 3,
   "id": "2d1696d9",
   "metadata": {},
   "outputs": [],
   "source": [
    "# def create_dataset(data):\n",
    "#     cleaned_dict = clean_html_add_url_flag(data)\n",
    "#     df[\"data\"] = cleaned_dict['data']\n",
    "#     df[\"url_count\"] = cleaned_dict['url_count']\n",
    "#     df[\"flag\"] = cleaned_dict['flag']\n",
    "#     df.to_csv('your paths here', index=False, header=True)"
   ]
  },
  {
   "cell_type": "code",
   "execution_count": 4,
   "id": "13d2c717",
   "metadata": {},
   "outputs": [],
   "source": [
    "# create_dataset(body)"
   ]
  },
  {
   "cell_type": "markdown",
   "id": "7041d963",
   "metadata": {},
   "source": [
    "# SVM Classifier"
   ]
  },
  {
   "cell_type": "code",
   "execution_count": 5,
   "id": "9e6c4644",
   "metadata": {},
   "outputs": [],
   "source": [
    "from sklearn.feature_extraction.text import CountVectorizer\n",
    "from sklearn.model_selection import train_test_split\n",
    "from sklearn.metrics import confusion_matrix, accuracy_score\n",
    "from sklearn import svm\n",
    "import matplotlib.pyplot as plt"
   ]
  },
  {
   "cell_type": "code",
   "execution_count": 6,
   "id": "ee6e0a51",
   "metadata": {},
   "outputs": [
    {
     "data": {
      "text/html": [
       "<div>\n",
       "<style scoped>\n",
       "    .dataframe tbody tr th:only-of-type {\n",
       "        vertical-align: middle;\n",
       "    }\n",
       "\n",
       "    .dataframe tbody tr th {\n",
       "        vertical-align: top;\n",
       "    }\n",
       "\n",
       "    .dataframe thead th {\n",
       "        text-align: right;\n",
       "    }\n",
       "</style>\n",
       "<table border=\"1\" class=\"dataframe\">\n",
       "  <thead>\n",
       "    <tr style=\"text-align: right;\">\n",
       "      <th></th>\n",
       "      <th>label</th>\n",
       "      <th>body_text</th>\n",
       "      <th>label_num</th>\n",
       "      <th>data</th>\n",
       "      <th>url_count</th>\n",
       "      <th>flag</th>\n",
       "    </tr>\n",
       "  </thead>\n",
       "  <tbody>\n",
       "    <tr>\n",
       "      <th>0</th>\n",
       "      <td>phishing</td>\n",
       "      <td>&lt;style type=\"text/css\"&gt;\\n&lt;!--\\n.style1 {\\n\\tfo...</td>\n",
       "      <td>1</td>\n",
       "      <td>&lt;!--\\n.style1 {\\n\\tfont-family: verdana, arial...</td>\n",
       "      <td>8</td>\n",
       "      <td>1</td>\n",
       "    </tr>\n",
       "    <tr>\n",
       "      <th>1</th>\n",
       "      <td>phishing</td>\n",
       "      <td>\\n&lt;html&gt;\\n\\n\\n\\n\\n\\n\\n\\n&lt;head&gt;\\n\\n\\n\\n&lt;meta ht...</td>\n",
       "      <td>1</td>\n",
       "      <td>new page 1\\n\\n\\n\\n\\n\\n\\n\\n\\n\\n\\n\\n\\n\\n\\n\\n.dum...</td>\n",
       "      <td>4</td>\n",
       "      <td>1</td>\n",
       "    </tr>\n",
       "    <tr>\n",
       "      <th>2</th>\n",
       "      <td>phishing</td>\n",
       "      <td>DIGITAL HOME DVD\\n\\nPROMOCION DVD JUNIO !!!\\n_...</td>\n",
       "      <td>1</td>\n",
       "      <td>digital home dvd\\n\\npromocion dvd junio !!!\\n_...</td>\n",
       "      <td>0</td>\n",
       "      <td>0</td>\n",
       "    </tr>\n",
       "    <tr>\n",
       "      <th>3</th>\n",
       "      <td>phishing</td>\n",
       "      <td>&lt;html xmlns:v=\"urn:schemas-microsoft-com:vml\"\\...</td>\n",
       "      <td>1</td>\n",
       "      <td>&lt;html xmlns:v=\"urn:schemas-microsoft-com:vml\"\\...</td>\n",
       "      <td>1</td>\n",
       "      <td>1</td>\n",
       "    </tr>\n",
       "    <tr>\n",
       "      <th>4</th>\n",
       "      <td>phishing</td>\n",
       "      <td>&lt;html&gt;\\n\\n&lt;head&gt;\\n&lt;meta http-equiv=\"Content-La...</td>\n",
       "      <td>1</td>\n",
       "      <td>7500 planos y diseï¿½os - casas y cabaï¿½as 20...</td>\n",
       "      <td>2</td>\n",
       "      <td>1</td>\n",
       "    </tr>\n",
       "    <tr>\n",
       "      <th>...</th>\n",
       "      <td>...</td>\n",
       "      <td>...</td>\n",
       "      <td>...</td>\n",
       "      <td>...</td>\n",
       "      <td>...</td>\n",
       "      <td>...</td>\n",
       "    </tr>\n",
       "    <tr>\n",
       "      <th>493</th>\n",
       "      <td>ham</td>\n",
       "      <td>Subject: cera conference call - tuesday , janu...</td>\n",
       "      <td>0</td>\n",
       "      <td>subject: cera conference call - tuesday , janu...</td>\n",
       "      <td>0</td>\n",
       "      <td>0</td>\n",
       "    </tr>\n",
       "    <tr>\n",
       "      <th>494</th>\n",
       "      <td>ham</td>\n",
       "      <td>Subject: bob lee ' s bio  vince ,  here ' s bo...</td>\n",
       "      <td>0</td>\n",
       "      <td>subject: bob lee ' s bio  vince ,  here ' s bo...</td>\n",
       "      <td>0</td>\n",
       "      <td>0</td>\n",
       "    </tr>\n",
       "    <tr>\n",
       "      <th>495</th>\n",
       "      <td>ham</td>\n",
       "      <td>Subject: re : london contact number  hi anita ...</td>\n",
       "      <td>0</td>\n",
       "      <td>subject: re : london contact number  hi anita ...</td>\n",
       "      <td>0</td>\n",
       "      <td>0</td>\n",
       "    </tr>\n",
       "    <tr>\n",
       "      <th>496</th>\n",
       "      <td>ham</td>\n",
       "      <td>Subject: re : the garp 2001 convention  andrea...</td>\n",
       "      <td>0</td>\n",
       "      <td>subject: re : the garp 2001 convention  andrea...</td>\n",
       "      <td>0</td>\n",
       "      <td>0</td>\n",
       "    </tr>\n",
       "    <tr>\n",
       "      <th>497</th>\n",
       "      <td>ham</td>\n",
       "      <td>Subject: re : test  thanks , vince . we have r...</td>\n",
       "      <td>0</td>\n",
       "      <td>subject: re : test  thanks , vince . we have r...</td>\n",
       "      <td>0</td>\n",
       "      <td>0</td>\n",
       "    </tr>\n",
       "  </tbody>\n",
       "</table>\n",
       "<p>498 rows × 6 columns</p>\n",
       "</div>"
      ],
      "text/plain": [
       "        label                                          body_text  label_num  \\\n",
       "0    phishing  <style type=\"text/css\">\\n<!--\\n.style1 {\\n\\tfo...          1   \n",
       "1    phishing  \\n<html>\\n\\n\\n\\n\\n\\n\\n\\n<head>\\n\\n\\n\\n<meta ht...          1   \n",
       "2    phishing  DIGITAL HOME DVD\\n\\nPROMOCION DVD JUNIO !!!\\n_...          1   \n",
       "3    phishing  <html xmlns:v=\"urn:schemas-microsoft-com:vml\"\\...          1   \n",
       "4    phishing  <html>\\n\\n<head>\\n<meta http-equiv=\"Content-La...          1   \n",
       "..        ...                                                ...        ...   \n",
       "493       ham  Subject: cera conference call - tuesday , janu...          0   \n",
       "494       ham  Subject: bob lee ' s bio  vince ,  here ' s bo...          0   \n",
       "495       ham  Subject: re : london contact number  hi anita ...          0   \n",
       "496       ham  Subject: re : the garp 2001 convention  andrea...          0   \n",
       "497       ham  Subject: re : test  thanks , vince . we have r...          0   \n",
       "\n",
       "                                                  data  url_count  flag  \n",
       "0    <!--\\n.style1 {\\n\\tfont-family: verdana, arial...          8     1  \n",
       "1    new page 1\\n\\n\\n\\n\\n\\n\\n\\n\\n\\n\\n\\n\\n\\n\\n\\n.dum...          4     1  \n",
       "2    digital home dvd\\n\\npromocion dvd junio !!!\\n_...          0     0  \n",
       "3    <html xmlns:v=\"urn:schemas-microsoft-com:vml\"\\...          1     1  \n",
       "4    7500 planos y diseï¿½os - casas y cabaï¿½as 20...          2     1  \n",
       "..                                                 ...        ...   ...  \n",
       "493  subject: cera conference call - tuesday , janu...          0     0  \n",
       "494  subject: bob lee ' s bio  vince ,  here ' s bo...          0     0  \n",
       "495  subject: re : london contact number  hi anita ...          0     0  \n",
       "496  subject: re : the garp 2001 convention  andrea...          0     0  \n",
       "497  subject: re : test  thanks , vince . we have r...          0     0  \n",
       "\n",
       "[498 rows x 6 columns]"
      ]
     },
     "execution_count": 6,
     "metadata": {},
     "output_type": "execute_result"
    }
   ],
   "source": [
    "df_new = pd.read_csv(\"dataset_medium.csv\")\n",
    "df_new"
   ]
  },
  {
   "cell_type": "code",
   "execution_count": 7,
   "id": "5a5fedc6",
   "metadata": {},
   "outputs": [],
   "source": [
    "cv = CountVectorizer(max_features=35000, min_df=1)"
   ]
  },
  {
   "cell_type": "code",
   "execution_count": 8,
   "id": "fad4a48a",
   "metadata": {},
   "outputs": [
    {
     "data": {
      "text/plain": [
       "Index(['body_text', 'label_num', 'data', 'url_count', 'flag'], dtype='object')"
      ]
     },
     "execution_count": 8,
     "metadata": {},
     "output_type": "execute_result"
    }
   ],
   "source": [
    "df_new.drop(['label'], 1, inplace=True)  # not relevant columns\n",
    "df_new['body_text'] = cv.fit_transform(df_new['body_text'].values.astype('U')).toarray()\n",
    "df_new['data'] = cv.fit_transform(df_new['data'].values.astype('U')).toarray()\n",
    "df_new.columns"
   ]
  },
  {
   "cell_type": "code",
   "execution_count": 9,
   "id": "03a5340b",
   "metadata": {},
   "outputs": [
    {
     "data": {
      "text/plain": [
       "0      0\n",
       "1      0\n",
       "2      0\n",
       "3      0\n",
       "4      0\n",
       "      ..\n",
       "493    1\n",
       "494    0\n",
       "495    1\n",
       "496    0\n",
       "497    0\n",
       "Name: data, Length: 498, dtype: int64"
      ]
     },
     "execution_count": 9,
     "metadata": {},
     "output_type": "execute_result"
    }
   ],
   "source": [
    "df_new['data']"
   ]
  },
  {
   "cell_type": "code",
   "execution_count": 10,
   "id": "04151cb2",
   "metadata": {},
   "outputs": [
    {
     "data": {
      "image/png": "[encoded data removed]",
      "text/plain": [
       "<Figure size 864x432 with 1 Axes>"
      ]
     },
     "metadata": {
      "needs_background": "light"
     },
     "output_type": "display_data"
    }
   ],
   "source": [
    "df_new[\"label_num\"].value_counts().plot(kind=\"bar\", figsize=(12,6))\n",
    "plt.xticks(np.arange(2), ('Ham', 'Phishing'), rotation=0)\n",
    "plt.show()"
   ]
  },
  {
   "cell_type": "code",
   "execution_count": 11,
   "id": "f1d0d03f",
   "metadata": {},
   "outputs": [],
   "source": [
    "X = np.array(df_new.drop(['label_num', 'body_text'], 1), dtype=int)\n",
    "y = np.array(df_new['label_num'])"
   ]
  },
  {
   "cell_type": "code",
   "execution_count": 12,
   "id": "9c4430bc",
   "metadata": {},
   "outputs": [],
   "source": [
    "X_train, X_test, y_train, y_test = train_test_split(X, y, test_size=0.20, random_state=0)"
   ]
  },
  {
   "cell_type": "code",
   "execution_count": 13,
   "id": "e9ddac7a",
   "metadata": {},
   "outputs": [],
   "source": [
    "model = svm.SVC()\n",
    "model.fit(X_train, y_train)\n",
    "y_pred = model.predict(X_test)"
   ]
  },
  {
   "cell_type": "code",
   "execution_count": 14,
   "id": "23415803",
   "metadata": {},
   "outputs": [
    {
     "name": "stdout",
     "output_type": "stream",
     "text": [
      "[[47  0]\n",
      " [ 5 48]] 95.0\n"
     ]
    }
   ],
   "source": [
    "cm = confusion_matrix(y_test, y_pred)\n",
    "score = accuracy_score(y_test, y_pred)\n",
    "print(cm, score*100)"
   ]
  },
  {
   "cell_type": "markdown",
   "id": "4693d76c",
   "metadata": {},
   "source": [
    "# ANN Classifier"
   ]
  },
  {
   "cell_type": "code",
   "execution_count": 15,
   "id": "144a12c1",
   "metadata": {},
   "outputs": [],
   "source": [
    "from sklearn import preprocessing\n",
    "from sklearn.model_selection import train_test_split\n",
    "from sklearn.feature_extraction.text import CountVectorizer\n",
    "from keras.models import Sequential\n",
    "from keras.layers import Dense"
   ]
  },
  {
   "cell_type": "code",
   "execution_count": 16,
   "id": "269e2e4c",
   "metadata": {},
   "outputs": [],
   "source": [
    "dataset = df_new.values\n",
    "X = dataset[:, 1:2]\n",
    "X = X.reshape(-1, 1)\n",
    "y = dataset[:, 0]"
   ]
  },
  {
   "cell_type": "code",
   "execution_count": 17,
   "id": "832f0dce",
   "metadata": {},
   "outputs": [],
   "source": [
    "# scale the data\n",
    "# scales the dataset so that all the input features lie between 0 and 1 inclusive\n",
    "min_max_scaler = preprocessing.MinMaxScaler()\n",
    "x_scale = min_max_scaler.fit_transform(X)"
   ]
  },
  {
   "cell_type": "code",
   "execution_count": 18,
   "id": "9bc7e12c",
   "metadata": {},
   "outputs": [
    {
     "name": "stdout",
     "output_type": "stream",
     "text": [
      "(398, 1) (25, 1) (75, 1) (398,) (25,) (75,)\n"
     ]
    }
   ],
   "source": [
    "x_train, x_val_test, y_train, y_val_test = train_test_split(x_scale, y, test_size=0.2)\n",
    "x_val, x_test, y_val, y_test = train_test_split(x_val_test, y_val_test)\n",
    "print(x_train.shape, x_test.shape, x_val.shape, y_train.shape, y_test.shape, y_val.shape)"
   ]
  },
  {
   "cell_type": "code",
   "execution_count": 19,
   "id": "93088146",
   "metadata": {},
   "outputs": [
    {
     "name": "stdout",
     "output_type": "stream",
     "text": [
      "Epoch 1/10\n",
      "13/13 [==============================] - 0s 499us/step - loss: 0.6887 - accuracy: 0.5653\n",
      "Epoch 2/10\n",
      "13/13 [==============================] - 0s 415us/step - loss: 0.6526 - accuracy: 0.8668\n",
      "Epoch 3/10\n",
      "13/13 [==============================] - 0s 416us/step - loss: 0.6259 - accuracy: 0.8668\n",
      "Epoch 4/10\n",
      "13/13 [==============================] - 0s 499us/step - loss: 0.6066 - accuracy: 0.8668\n",
      "Epoch 5/10\n",
      "13/13 [==============================] - 0s 499us/step - loss: 0.5950 - accuracy: 0.8668\n",
      "Epoch 6/10\n",
      "13/13 [==============================] - 0s 499us/step - loss: 0.5866 - accuracy: 0.8668\n",
      "Epoch 7/10\n",
      "13/13 [==============================] - 0s 416us/step - loss: 0.5839 - accuracy: 0.8668\n",
      "Epoch 8/10\n",
      "13/13 [==============================] - 0s 499us/step - loss: 0.5817 - accuracy: 0.8668\n",
      "Epoch 9/10\n",
      "13/13 [==============================] - 0s 499us/step - loss: 0.5807 - accuracy: 0.8668\n",
      "Epoch 10/10\n",
      "13/13 [==============================] - 0s 499us/step - loss: 0.5800 - accuracy: 0.8668\n"
     ]
    },
    {
     "data": {
      "text/plain": [
       "<keras.callbacks.History at 0x1c8badbdf40>"
      ]
     },
     "execution_count": 19,
     "metadata": {},
     "output_type": "execute_result"
    }
   ],
   "source": [
    "# first layer as a dense layer with 32 neurons, input_shape = # of features\n",
    "\n",
    "# model = Sequential([Dense(32, activation='relu', input_shape=(2,)), Dense(32, activation='relu'), Dense(1, activation='sigmoid'),])\n",
    "model = Sequential([Dense(32, activation='relu', input_shape=(1,)), Dense(32, activation='relu'), Dense(1, activation='sigmoid'),])\n",
    "model.compile(optimizer='adam', loss='binary_crossentropy', metrics=['accuracy'])\n",
    "model.fit(x_train, y_train, batch_size=32, epochs=10)"
   ]
  },
  {
   "cell_type": "code",
   "execution_count": 20,
   "id": "8bb07d8c",
   "metadata": {},
   "outputs": [
    {
     "name": "stdout",
     "output_type": "stream",
     "text": [
      "1/1 [==============================] - 0s 77ms/step - loss: 0.5474 - accuracy: 0.8400\n",
      "Accuracy: 0.8399999737739563\n"
     ]
    }
   ],
   "source": [
    "evalu = model.evaluate(x_test, y_test)[1]\n",
    "print(\"Accuracy: \" + str(evalu))"
   ]
  }
 ],
 "metadata": {
  "kernelspec": {
   "display_name": "Python 3",
   "language": "python",
   "name": "python3"
  },
  "language_info": {
   "codemirror_mode": {
    "name": "ipython",
    "version": 3
   },
   "file_extension": ".py",
   "mimetype": "text/x-python",
   "name": "python",
   "nbconvert_exporter": "python",
   "pygments_lexer": "ipython3",
   "version": "3.8.8"
  }
 },
 "nbformat": 4,
 "nbformat_minor": 5
}
